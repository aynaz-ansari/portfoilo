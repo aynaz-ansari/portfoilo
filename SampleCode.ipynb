{
 "cells": [
  {
   "cell_type": "code",
   "execution_count": 1,
   "id": "af1aa526-4fa6-4d38-9edd-6f44d61b8c00",
   "metadata": {},
   "outputs": [],
   "source": [
    "class Person():\n",
    "    nationality=\"Iranian\"\n",
    "    def __init__(self,fn,ln,g,by,h,w,j):\n",
    "        self.first_name=fn\n",
    "        self.last_name=ln\n",
    "        self.gender=g\n",
    "        self.birthyear=by\n",
    "        self.height=h\n",
    "        self.weight=w\n",
    "        self.job=j\n",
    "        self.define_military_status()\n",
    "        self.define_salary()\n",
    "    def define_military_status(self):\n",
    "        if self.gender.lower()==\"male\":\n",
    "            self.military_status=input(f\"Enter military status:{self.first_name}\")\n",
    "    def calculate_bmi(self):\n",
    "        self.bmi=self.weight/self.height**2\n",
    "        print(self.bmi)\n",
    "    def define_salary(self):\n",
    "        if self.job.lower()!=\"student\":\n",
    "            self.salary=int(input(f\"Enter{self.first_name} salary:\"))"
   ]
  },
  {
   "cell_type": "code",
   "execution_count": 3,
   "id": "9d7a378b-d7c3-4496-9df6-2027ed4b8292",
   "metadata": {},
   "outputs": [
    {
     "name": "stdin",
     "output_type": "stream",
     "text": [
      "Enter military status:ali moaf\n",
      "Enterali salary: 2300000000000000\n",
      "Enter military status:kasra moafit tahsili\n",
      "Enterkasra salary: 2300000000000\n",
      "Entersara salary: 34500000000000000\n"
     ]
    }
   ],
   "source": [
    "p1=Person(\"ali\",\"akbari\",\"male\",1363,1.77,80,\"Employee\")\n",
    "p2=Person(\"kasra\",\"dadashi\",\"male\",1374,1.83,78,\"boss\")\n",
    "p3=Person(\"sara\",\"mahbobi\",\"famale\",1378,1.56,58,\"engineer\")"
   ]
  },
  {
   "cell_type": "code",
   "execution_count": 5,
   "id": "f6db1734-dc65-4cb3-aa8d-90d6e72dda31",
   "metadata": {},
   "outputs": [
    {
     "name": "stdout",
     "output_type": "stream",
     "text": [
      "moaf\n",
      "moafit tahsili\n"
     ]
    }
   ],
   "source": [
    "print(p1.military_status)\n",
    "print(p2.military_status)"
   ]
  },
  {
   "cell_type": "code",
   "execution_count": 7,
   "id": "60bcb6e9-3c98-436b-a04a-97c4eb305754",
   "metadata": {},
   "outputs": [
    {
     "name": "stdout",
     "output_type": "stream",
     "text": [
      "25.53544639152223\n",
      "25.53544639152223\n"
     ]
    }
   ],
   "source": [
    "p1.calculate_bmi()\n",
    "print(p1.bmi)"
   ]
  }
 ],
 "metadata": {
  "kernelspec": {
   "display_name": "Python [conda env:base] *",
   "language": "python",
   "name": "conda-base-py"
  },
  "language_info": {
   "codemirror_mode": {
    "name": "ipython",
    "version": 3
   },
   "file_extension": ".py",
   "mimetype": "text/x-python",
   "name": "python",
   "nbconvert_exporter": "python",
   "pygments_lexer": "ipython3",
   "version": "3.12.7"
  }
 },
 "nbformat": 4,
 "nbformat_minor": 5
}
