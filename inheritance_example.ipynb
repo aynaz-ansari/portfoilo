{
 "cells": [
  {
   "cell_type": "code",
   "execution_count": 124,
   "id": "75bcce8a-b2ff-4a3d-83d2-ed17c41c0196",
   "metadata": {},
   "outputs": [],
   "source": [
    "#Inheritance_Example\n",
    "class Person():\n",
    "    def __init__(self,fn,ln,a):\n",
    "        self.first_name=fn\n",
    "        self.last_name=ln\n",
    "        self.age=a\n",
    "    def show_full_name(self):\n",
    "        print(f\"{self.first_name} {self.last_name}\")"
   ]
  },
  {
   "cell_type": "code",
   "execution_count": 126,
   "id": "cb525225-8869-478f-b437-c78ae5a335f0",
   "metadata": {},
   "outputs": [],
   "source": [
    "#Inheritance\n",
    "class Employee(Person):\n",
    "    pass"
   ]
  },
  {
   "cell_type": "code",
   "execution_count": 128,
   "id": "bb578276-4557-49f5-8913-9e060df3d0dc",
   "metadata": {},
   "outputs": [
    {
     "name": "stdout",
     "output_type": "stream",
     "text": [
      "Sara Hasani\n"
     ]
    }
   ],
   "source": [
    "e=Employee(\"Sara\",\"Hasani\",26)\n",
    "e.show_full_name()"
   ]
  },
  {
   "cell_type": "code",
   "execution_count": 130,
   "id": "c8c48d6c-41fc-4a2c-a4f4-a9eb18003554",
   "metadata": {},
   "outputs": [],
   "source": [
    "#Inheritance_Example\n",
    "class Person1():\n",
    "    def __init__(self,fn,ln,a):\n",
    "        self.first_name=fn\n",
    "        self.last_name=ln\n",
    "        self.age=a\n",
    "    def show_full_name(self):\n",
    "        print(f\"{self.first_name} {self.last_name}\")"
   ]
  },
  {
   "cell_type": "code",
   "execution_count": 132,
   "id": "0acdcbfa-67a3-4af9-8506-8b41e93928e0",
   "metadata": {},
   "outputs": [],
   "source": [
    "class Employee1(Person1):\n",
    "    def __init__(self,fn,ln,a,s):\n",
    "      #Person1.__init__(self,fn,ln,s)\n",
    "      super().__init__(fn,ln,a)\n",
    "      self.salary=s"
   ]
  },
  {
   "cell_type": "code",
   "execution_count": 133,
   "id": "9a5d753c-c43e-43a4-bfa0-9d4c0227a09f",
   "metadata": {},
   "outputs": [
    {
     "name": "stdout",
     "output_type": "stream",
     "text": [
      "Ali Ahmadi\n"
     ]
    }
   ],
   "source": [
    "e1=Employee1(\"Ali\",\"Ahmadi\",24,3000000000)\n",
    "e1.show_full_name()"
   ]
  },
  {
   "cell_type": "code",
   "execution_count": 136,
   "id": "9a64fe4d-c05c-4063-8cb8-2d14f718caee",
   "metadata": {},
   "outputs": [],
   "source": [
    "#Inheritance_Example\n",
    "\n",
    "class Person2():\n",
    "    def __init__(self,fn,ln,g,by,ms):\n",
    "        self.first_name=fn\n",
    "        self.last_name=ln\n",
    "        self.gender=g\n",
    "        self.birthyear=by\n",
    "        self.marital_status=ms\n",
    "    def __str__(self):\n",
    "        return f\"{self.first_name} {self.last_name}\"\n",
    "    def calculate_age(self,current_year):\n",
    "        return current_year-self.birthyear"
   ]
  },
  {
   "cell_type": "code",
   "execution_count": 138,
   "id": "2103cacd-7a56-4576-85db-19cd24fdd476",
   "metadata": {},
   "outputs": [],
   "source": [
    "\n",
    "class Employee2(Person2):\n",
    "    tax=10\n",
    "    insurance=7\n",
    "    def __init__(self,fn,ln,g,by,ms,s,jt):\n",
    "        Person2.__init__(self,fn,ln,g,by,ms)\n",
    "        #super().__init__(fn,ln,g,by,ms)\n",
    "        self.salary=s\n",
    "        self.job_title=jt\n",
    "        self.salary_addition()\n",
    "    def salary_addition(self):\n",
    "      if self.marital_status.lower()==\"married\":\n",
    "         self.salary+=1000000\n",
    "          \n",
    "#Polymorphism\n",
    "    def __str__(self):\n",
    "        return f\"{self.first_name} {self.last_name} - {self.job_title}\"\n",
    "    def show_net_salary(self):\n",
    "        print(self.salary-(self.salary*(self.tax+self.insurance)/100))"
   ]
  },
  {
   "cell_type": "code",
   "execution_count": 140,
   "id": "2f3df557-4b87-4de3-933b-acf4562f1983",
   "metadata": {},
   "outputs": [
    {
     "name": "stdout",
     "output_type": "stream",
     "text": [
      "Dellaram Mohamadi - Teacher\n",
      "24070000.0\n",
      "29\n"
     ]
    }
   ],
   "source": [
    "e2=Employee2(\"Dellaram\",\"Mohamadi\",\"Female\",1375,\"Married\",28000000,\"Teacher\")\n",
    "print(e2)\n",
    "e2.show_net_salary()\n",
    "print(e2.calculate_age(1404))"
   ]
  },
  {
   "cell_type": "code",
   "execution_count": 144,
   "id": "9500a23e-46bb-40fc-92e4-0bd1c80a3123",
   "metadata": {},
   "outputs": [
    {
     "name": "stdout",
     "output_type": "stream",
     "text": [
      "Hassan Azizi\n"
     ]
    }
   ],
   "source": [
    "p2=Person2(\"Hassan\",\"Azizi\",\"Male\",1380,\"single\")\n",
    "print(p2)"
   ]
  }
 ],
 "metadata": {
  "kernelspec": {
   "display_name": "Python [conda env:base] *",
   "language": "python",
   "name": "conda-base-py"
  },
  "language_info": {
   "codemirror_mode": {
    "name": "ipython",
    "version": 3
   },
   "file_extension": ".py",
   "mimetype": "text/x-python",
   "name": "python",
   "nbconvert_exporter": "python",
   "pygments_lexer": "ipython3",
   "version": "3.12.7"
  }
 },
 "nbformat": 4,
 "nbformat_minor": 5
}
